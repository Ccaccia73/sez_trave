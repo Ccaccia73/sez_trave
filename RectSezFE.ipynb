{
 "cells": [
  {
   "cell_type": "code",
   "execution_count": 12,
   "metadata": {
    "collapsed": true
   },
   "outputs": [],
   "source": [
    "import numpy as np\n",
    "import matplotlib.pyplot as plt\n",
    "#import json\n",
    "#from scipy import stats\n",
    "#import scipy.interpolate as interp\n",
    "from pprint import pprint\n",
    "%matplotlib inline\n",
    "from matplotlib import rcParams\n",
    "rcParams['font.family'] = 'serif'\n",
    "rcParams['font.size'] = 14"
   ]
  },
  {
   "cell_type": "code",
   "execution_count": 13,
   "metadata": {
    "collapsed": false
   },
   "outputs": [],
   "source": [
    "from sez import *"
   ]
  },
  {
   "cell_type": "markdown",
   "metadata": {},
   "source": [
    "## Definizione Dati"
   ]
  },
  {
   "cell_type": "markdown",
   "metadata": {},
   "source": [
    "Griglia di modellazione"
   ]
  },
  {
   "cell_type": "code",
   "execution_count": 14,
   "metadata": {
    "collapsed": true
   },
   "outputs": [],
   "source": [
    "a = 1.    # dimensione lato 1\n",
    "b = 1.    # dimensione lato 2\n",
    "\n",
    "shape = 'cir'   # tipo forma ['rect', 'ell', 'cir']\n",
    "\n",
    "gr = 3 # num nodi lato 2 o 3\n",
    "ne = 16 # num elementi per larghezza e altezza\n",
    "\n",
    "E = 1. # modulo di Young\n",
    "ν = 0.33 # coeff. Poisson\n",
    "\n",
    "off_x = 0. # offset in x\n",
    "off_y = 0. # offset in y"
   ]
  },
  {
   "cell_type": "markdown",
   "metadata": {},
   "source": [
    "Setup della sezione"
   ]
  },
  {
   "cell_type": "code",
   "execution_count": 15,
   "metadata": {
    "collapsed": false
   },
   "outputs": [],
   "source": [
    "sez1 = Section(a,b,shape)\n",
    "sez1.setup(ne, ne, gr, E, ν, off_x, off_y)"
   ]
  },
  {
   "cell_type": "markdown",
   "metadata": {},
   "source": [
    "Generazione dei dati"
   ]
  },
  {
   "cell_type": "code",
   "execution_count": 16,
   "metadata": {
    "collapsed": false
   },
   "outputs": [],
   "source": [
    "sez1.generazione_dati()"
   ]
  },
  {
   "cell_type": "code",
   "execution_count": 17,
   "metadata": {
    "collapsed": false
   },
   "outputs": [
    {
     "data": {
      "text/plain": [
       "array([[ 1.  ,  0.33,  0.33,  0.  ,  0.  ,  0.33],\n",
       "       [ 0.33,  1.  ,  0.  ,  0.  ,  0.  ,  0.33],\n",
       "       [ 0.  ,  0.  ,  2.66,  0.  ,  0.  ,  0.  ],\n",
       "       [ 0.  ,  0.  ,  0.  ,  2.66,  0.  ,  0.  ],\n",
       "       [ 0.  ,  0.  ,  0.  ,  0.  ,  2.66,  0.  ],\n",
       "       [ 0.33,  0.33,  0.  ,  0.  ,  0.  ,  1.  ]])"
      ]
     },
     "execution_count": 17,
     "metadata": {},
     "output_type": "execute_result"
    }
   ],
   "source": [
    "sez1.F"
   ]
  },
  {
   "cell_type": "code",
   "execution_count": 18,
   "metadata": {
    "collapsed": false
   },
   "outputs": [
    {
     "data": {
      "text/plain": [
       "array([[ 0.37593985,  0.        ,  0.        ,  0.        ,  0.        ,\n",
       "         0.        ],\n",
       "       [-0.14835461,  1.19582809, -0.29670922,  0.        ,  0.        ,\n",
       "        -0.29670922],\n",
       "       [ 0.03680979, -0.29670922,  1.19582809,  0.        ,  0.        ,\n",
       "        -0.29670922],\n",
       "       [ 0.        ,  0.        ,  0.        ,  0.37593985,  0.        ,\n",
       "         0.        ],\n",
       "       [ 0.        ,  0.        ,  0.        ,  0.        ,  0.37593985,\n",
       "         0.        ],\n",
       "       [ 0.03680979, -0.29670922, -0.29670922,  0.        ,  0.        ,\n",
       "         1.19582809]])"
      ]
     },
     "execution_count": 18,
     "metadata": {},
     "output_type": "execute_result"
    }
   ],
   "source": [
    "sez1.D"
   ]
  },
  {
   "cell_type": "code",
   "execution_count": 19,
   "metadata": {
    "collapsed": false
   },
   "outputs": [
    {
     "data": {
      "text/plain": [
       "array([[ 1.19582809,  0.03680979, -0.29670922,  0.        ,  0.        ,\n",
       "        -0.29670922],\n",
       "       [ 0.        ,  0.37593985,  0.        ,  0.        ,  0.        ,\n",
       "         0.        ],\n",
       "       [-0.29670922, -0.14835461,  1.19582809,  0.        ,  0.        ,\n",
       "        -0.29670922],\n",
       "       [ 0.        ,  0.        ,  0.        ,  0.37593985,  0.        ,\n",
       "         0.        ],\n",
       "       [ 0.        ,  0.        ,  0.        ,  0.        ,  0.37593985,\n",
       "         0.        ],\n",
       "       [-0.29670922,  0.03680979, -0.29670922,  0.        ,  0.        ,\n",
       "         1.19582809]])"
      ]
     },
     "execution_count": 19,
     "metadata": {},
     "output_type": "execute_result"
    }
   ],
   "source": [
    "t = [2, 0, 1, 3, 4, 5]\n",
    "sez1.D[:, t][t]"
   ]
  },
  {
   "cell_type": "code",
   "execution_count": 20,
   "metadata": {
    "collapsed": false
   },
   "outputs": [
    {
     "data": {
      "text/plain": [
       "array([[-0.14835461,  1.19582809, -0.29670922,  0.        ,  0.        ,\n",
       "        -0.29670922],\n",
       "       [ 0.03680979, -0.29670922,  1.19582809,  0.        ,  0.        ,\n",
       "        -0.29670922],\n",
       "       [ 0.37593985,  0.        ,  0.        ,  0.        ,  0.        ,\n",
       "         0.        ],\n",
       "       [ 0.        ,  0.        ,  0.        ,  0.37593985,  0.        ,\n",
       "         0.        ],\n",
       "       [ 0.        ,  0.        ,  0.        ,  0.        ,  0.37593985,\n",
       "         0.        ],\n",
       "       [ 0.03680979, -0.29670922, -0.29670922,  0.        ,  0.        ,\n",
       "         1.19582809]])"
      ]
     },
     "execution_count": 20,
     "metadata": {},
     "output_type": "execute_result"
    }
   ],
   "source": [
    "sez1.D[t][t]"
   ]
  },
  {
   "cell_type": "code",
   "execution_count": 21,
   "metadata": {
    "collapsed": false
   },
   "outputs": [
    {
     "data": {
      "text/plain": [
       "array([[ 0.,  0.,  0.],\n",
       "       [ 0.,  0.,  0.],\n",
       "       [ 0.,  0.,  1.]])"
      ]
     },
     "execution_count": 21,
     "metadata": {},
     "output_type": "execute_result"
    }
   ],
   "source": [
    "sez1.H"
   ]
  },
  {
   "cell_type": "code",
   "execution_count": 24,
   "metadata": {
    "collapsed": false
   },
   "outputs": [
    {
     "data": {
      "text/plain": [
       "array([[ 1050.,  1081.,  1082.,  1083.],\n",
       "       [ 1052.,  1083.,  1084.,  1085.],\n",
       "       [ 1054.,  1085.,  1086.,  1087.],\n",
       "       [ 1056.,  1087.,  1088.,  1089.]])"
      ]
     },
     "execution_count": 24,
     "metadata": {},
     "output_type": "execute_result"
    }
   ],
   "source": [
    "sez1.tabe[-4:,-4:]"
   ]
  },
  {
   "cell_type": "code",
   "execution_count": null,
   "metadata": {
    "collapsed": true
   },
   "outputs": [],
   "source": []
  }
 ],
 "metadata": {
  "kernelspec": {
   "display_name": "Python 3",
   "language": "python",
   "name": "python3"
  },
  "language_info": {
   "codemirror_mode": {
    "name": "ipython",
    "version": 3
   },
   "file_extension": ".py",
   "mimetype": "text/x-python",
   "name": "python",
   "nbconvert_exporter": "python",
   "pygments_lexer": "ipython3",
   "version": "3.5.1"
  }
 },
 "nbformat": 4,
 "nbformat_minor": 0
}
